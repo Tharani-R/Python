{
 "cells": [
  {
   "cell_type": "markdown",
   "metadata": {},
   "source": [
    "# Introduction to Python\n"
   ]
  },
  {
   "cell_type": "markdown",
   "metadata": {},
   "source": [
    "## Assignment 1"
   ]
  },
  {
   "cell_type": "markdown",
   "metadata": {},
   "source": [
    "1. Ramesh’s basic salary is input through the keyboard. His dearness allowance is 40% of\n",
    "basic salary, and house rent allowance is 20% of basic salary. Write a program to\n",
    "calculate his gross salary."
   ]
  },
  {
   "cell_type": "code",
   "execution_count": 1,
   "metadata": {},
   "outputs": [
    {
     "name": "stdout",
     "output_type": "stream",
     "text": [
      "Ramesh’s Basic Salary: 10000\n",
      "Ramesh’s gross salary is: 16000.0\n"
     ]
    }
   ],
   "source": [
    "basic_salary = int(input(\"Ramesh’s Basic Salary: \"))   #gets the basic salary as input\n",
    "gross_salary = basic_salary + (basic_salary * 40/100) + (basic_salary * 20/100)    #calculate the gross salary\n",
    "print(\"Ramesh’s gross salary is:\",gross_salary)"
   ]
  },
  {
   "cell_type": "markdown",
   "metadata": {},
   "source": [
    "2. The distance between two cities (in km.) is input through the keyboard. Write a program\n",
    "to convert and print this distance in meters, feet, inches and centimeters."
   ]
  },
  {
   "cell_type": "code",
   "execution_count": 2,
   "metadata": {},
   "outputs": [
    {
     "name": "stdout",
     "output_type": "stream",
     "text": [
      "Distance between two cities (in km.): 2\n",
      "Distance in meters: 2000\n",
      "Distance in feet: 6561.68\n",
      "Distance in inches: 78740.16\n",
      "Distance in centimeters: 200000\n"
     ]
    }
   ],
   "source": [
    "dist_2_city = int(input(\"Distance between two cities (in km.): \"))  #gets input distance in KM\n",
    "print(\"Distance in meters:\",dist_2_city*1000)    #print the distance in other measurement\n",
    "print(\"Distance in feet:\",dist_2_city*3280.84)\n",
    "print(\"Distance in inches:\",dist_2_city*39370.08)\n",
    "print(\"Distance in centimeters:\",dist_2_city*100000)"
   ]
  },
  {
   "cell_type": "markdown",
   "metadata": {},
   "source": [
    "3. If the marks obtained by a student in five different subjects are input through the\n",
    "keyboard, find out the aggregate marks and percentage marks obtained by the student.\n",
    "Assume that the maximum marks that can be obtained by a student in each subject is\n",
    "100."
   ]
  },
  {
   "cell_type": "code",
   "execution_count": 3,
   "metadata": {},
   "outputs": [
    {
     "name": "stdout",
     "output_type": "stream",
     "text": [
      "Marks in Subject 1 out of 100: 50\n",
      "Marks in Subject 2 out of 100: 59\n",
      "Marks in Subject 3 out of 100: 65\n",
      "Marks in Subject 4 out of 100: 72\n",
      "Marks in Subject 5 out of 100: 62\n",
      "Total marks: 308\n",
      "Percentage: 61.6\n"
     ]
    }
   ],
   "source": [
    "subject1 = int(input(\"Marks in Subject 1 out of 100: \"))   #get 5 subject marks as input\n",
    "subject2 = int(input(\"Marks in Subject 2 out of 100: \"))\n",
    "subject3 = int(input(\"Marks in Subject 3 out of 100: \"))\n",
    "subject4 = int(input(\"Marks in Subject 4 out of 100: \"))\n",
    "subject5 = int(input(\"Marks in Subject 5 out of 100: \"))\n",
    "print(\"Total marks:\",subject1+subject2+subject3+subject4+subject5)  # print the total marks and percentage\n",
    "print(\"Percentage:\",(subject1+subject2+subject3+subject4+subject5)/5)"
   ]
  },
  {
   "cell_type": "markdown",
   "metadata": {},
   "source": [
    "4. Temperature of a city in Fahrenheit degrees is input through the keyboard. Write a\n",
    "program to convert this temperature into Centigrade degrees."
   ]
  },
  {
   "cell_type": "code",
   "execution_count": 4,
   "metadata": {},
   "outputs": [
    {
     "name": "stdout",
     "output_type": "stream",
     "text": [
      "Temperature of a city in Fahrenheit degrees is: 100\n",
      "Temperature of a city in Centigrade degrees is: 37.77777777777778\n"
     ]
    }
   ],
   "source": [
    "temp_far = int(input(\"Temperature of a city in Fahrenheit degrees is: \"))  # gets input as degree in gahrenheit and provides result in Centigrade\n",
    "print(\"Temperature of a city in Centigrade degrees is:\",(temp_far-32)*(5/9))"
   ]
  },
  {
   "cell_type": "markdown",
   "metadata": {},
   "source": [
    "5. The length & breadth of a rectangle and radius of a circle are input through the\n",
    "keyboard. Write a program to calculate the area & perimeter of the rectangle, and the\n",
    "area & circumference of the circle."
   ]
  },
  {
   "cell_type": "code",
   "execution_count": 5,
   "metadata": {},
   "outputs": [
    {
     "name": "stdout",
     "output_type": "stream",
     "text": [
      "The length of rectangle is: 5\n",
      "The breadth of rectangle is: 2\n",
      "The radius of a circle is: 8\n",
      "The area of  rectangle: 10\n",
      "The perimeter of rectangle: 14\n",
      "The area of circle: 200.96\n",
      "The circumference of circle: 50.24\n"
     ]
    }
   ],
   "source": [
    "len_rect = int(input(\"The length of rectangle is: \"))   # gets input length & breadth of a rectangle and radius of a circle\n",
    "bre_rect = int(input(\"The breadth of rectangle is: \"))\n",
    "rad_cir = int(input(\"The radius of a circle is: \"))\n",
    "print(\"The area of  rectangle:\",len_rect*bre_rect)   # print area & perimeter of the rectangle, and the area & circumference of the circle.\n",
    "print(\"The perimeter of rectangle:\",2*(len_rect+bre_rect))\n",
    "print(\"The area of circle:\",3.14*rad_cir*rad_cir)\n",
    "print(\"The circumference of circle:\",3.14*2*rad_cir)"
   ]
  },
  {
   "cell_type": "markdown",
   "metadata": {},
   "source": [
    "6. Two numbers are input through the keyboard into two locations C and D. Write a\n",
    "program to interchange the contents of C and D."
   ]
  },
  {
   "cell_type": "code",
   "execution_count": 6,
   "metadata": {},
   "outputs": [
    {
     "name": "stdout",
     "output_type": "stream",
     "text": [
      "Number at C: 4\n",
      "Number at D: 9\n",
      "Number at C after interchange: 9\n",
      "Number at D after interchange: 4\n"
     ]
    }
   ],
   "source": [
    "C = input(\"Number at C: \")   # get the value of two point\n",
    "D = input(\"Number at D: \")\n",
    "A = C\n",
    "C = D\n",
    "D = A\n",
    "print(\"Number at C after interchange:\",C)   # print the value after interchanging the value\n",
    "print(\"Number at D after interchange:\",D)"
   ]
  },
  {
   "cell_type": "markdown",
   "metadata": {},
   "source": [
    "7. If a five-digit number is input through the keyboard, write a program to reverse the\n",
    "number."
   ]
  },
  {
   "cell_type": "code",
   "execution_count": 7,
   "metadata": {},
   "outputs": [
    {
     "name": "stdout",
     "output_type": "stream",
     "text": [
      "Enter a 5 digit number: 12365\n",
      "The reverse is: 56321\n"
     ]
    }
   ],
   "source": [
    "num = int(input(\"Enter a 5 digit number: \"))  # gets a 5 digit number\n",
    "d1 = int(num%10)\n",
    "d2 = int((num%100)/10)\n",
    "d3 = int((num%1000)/100)\n",
    "d4 = int((num%10000)/1000)\n",
    "d5 = int((num%100000)/10000)\n",
    "print(\"The reverse is: \",d1,d2,d3,d4,d5, sep='')   # print reverse value of the number"
   ]
  },
  {
   "cell_type": "markdown",
   "metadata": {},
   "source": [
    "8. If a four-digit number is input through the keyboard, write a program to obtain the sum of\n",
    "the first and last digit of this number."
   ]
  },
  {
   "cell_type": "code",
   "execution_count": 8,
   "metadata": {},
   "outputs": [
    {
     "name": "stdout",
     "output_type": "stream",
     "text": [
      "Enter a 4 digit number: 8526\n",
      "sum of the first and last digit of this number: 14\n"
     ]
    }
   ],
   "source": [
    "num = int(input(\"Enter a 4 digit number: \"))    #gets a 4 digit number\n",
    "d1 = int(num%10)\n",
    "d4 = int((num%10000)/1000)\n",
    "\n",
    "print(\"sum of the first and last digit of this number:\",d1+d4) # print the sum of first and last digit"
   ]
  },
  {
   "cell_type": "markdown",
   "metadata": {},
   "source": [
    "9. In a town, the percentage of men is 52. The percentage of total literacy is 48. If total\n",
    "percentage of literate men is 35 of the total population, write a program to find the total\n",
    "number of illiterate men and women if the population of the town is 80,000."
   ]
  },
  {
   "cell_type": "code",
   "execution_count": 10,
   "metadata": {},
   "outputs": [
    {
     "name": "stdout",
     "output_type": "stream",
     "text": [
      "Number of illiterate men: 13600.0\n",
      "Number of illiterate women: 28000.0\n"
     ]
    }
   ],
   "source": [
    "population = 80000\n",
    "men = population * (52/100)\n",
    "women = population - men\n",
    "literate = population * (48/100)\n",
    "iliterate = population - literate\n",
    "literate_men = population * (35/100)\n",
    "iliterate_men = men - literate_men\n",
    "iliterate_women = iliterate - iliterate_men\n",
    "print(\"Number of illiterate men:\",iliterate_men)  # print number of illiterate men and women based on provided data\n",
    "print(\"Number of illiterate women:\",iliterate_women)"
   ]
  },
  {
   "cell_type": "markdown",
   "metadata": {},
   "source": [
    "10. A cashier has currency notes of denominations 10, 50 and 100. If the amount to be\n",
    "withdrawn is input through the keyboard in hundreds, find the total number of currency\n",
    "notes of each denomination the cashier will have to give to the withdrawer."
   ]
  },
  {
   "cell_type": "code",
   "execution_count": 11,
   "metadata": {},
   "outputs": [
    {
     "name": "stdout",
     "output_type": "stream",
     "text": [
      "Aamount: 860\n",
      "100:  8 \n",
      "50:  1 \n",
      "10:  1\n"
     ]
    }
   ],
   "source": [
    "cash = int(input(\"Aamount: \")) # gets the input of a total cash\n",
    "hud = cash//100\n",
    "fif = (cash%100)//50\n",
    "ten = ((cash%100)%50)//10\n",
    "print(\"100: \",hud, \"\\n50: \", fif, \"\\n10: \", ten) #prints each denomination the cashier will have to give to the withdrawer."
   ]
  },
  {
   "cell_type": "code",
   "execution_count": null,
   "metadata": {},
   "outputs": [],
   "source": []
  }
 ],
 "metadata": {
  "kernelspec": {
   "display_name": "Python 3",
   "language": "python",
   "name": "python3"
  },
  "language_info": {
   "codemirror_mode": {
    "name": "ipython",
    "version": 3
   },
   "file_extension": ".py",
   "mimetype": "text/x-python",
   "name": "python",
   "nbconvert_exporter": "python",
   "pygments_lexer": "ipython3",
   "version": "3.8.3"
  }
 },
 "nbformat": 4,
 "nbformat_minor": 4
}
