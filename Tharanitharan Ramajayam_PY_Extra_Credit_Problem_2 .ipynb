{
 "cells": [
  {
   "cell_type": "markdown",
   "metadata": {},
   "source": [
    "#Guess the number problem"
   ]
  },
  {
   "cell_type": "code",
   "execution_count": 1,
   "metadata": {},
   "outputs": [],
   "source": [
    "import random"
   ]
  },
  {
   "cell_type": "code",
   "execution_count": 2,
   "metadata": {},
   "outputs": [],
   "source": [
    "#function to guess number matchs with randomly genrated number\n",
    "def guess_number(account):\n",
    "    \n",
    "    random_ = random.randint(0,9)\n",
    "    print(random_)\n",
    "    \n",
    "    #For loop to provide user 3 chances\n",
    "    for count in range(0,3):\n",
    "        \n",
    "        #User input the guess\n",
    "        guess = int(input(\"Guess the number: \"))\n",
    "        \n",
    "        #if condition to check the guess and random number matches\n",
    "        if guess == random_:\n",
    "            print(\"You got it right! Congo!\")\n",
    "            \n",
    "            #if condition to check the correct guess is made at which chance provide the prize accordingly\n",
    "            if count+1 == 1:\n",
    "                account = account + 5000\n",
    "                print(\"You have won Rs. 5,000\")\n",
    "            elif count+1 == 2:\n",
    "                account = account + 1000\n",
    "                print(\"You have just won Rs. 1,000\")\n",
    "            break\n",
    "        \n",
    "        #elif condition what if user makes wrong guess\n",
    "        elif count+1 < 3:\n",
    "            if guess > random_:\n",
    "                print(\"Too high\")\n",
    "            if guess < random_:\n",
    "                print(\"To low\")\n",
    "        \n",
    "        #else if user makes all 3 guess as wrong and detect the lose amount\n",
    "        else:\n",
    "            print(\"Sorry you Lost!\")\n",
    "            account = account - 500\n",
    "    return(account)"
   ]
  },
  {
   "cell_type": "code",
   "execution_count": 3,
   "metadata": {},
   "outputs": [],
   "source": [
    "#Function to check the user as min balance is account\n",
    "def balance_check(account,wallet):\n",
    "    withdraw = 0\n",
    "    \n",
    "    #While loop to check if user account has more than 500, if yes then user can withdraw from e-wallet\n",
    "    while account < 500:\n",
    "        print(\"You still do not have enough money to start playing.\", \"account balance:\", account,\"e-wallet balance:\", wallet)\n",
    "        withdraw = int(input(\"Enter the amount to be withdraw: \")) \n",
    "        account = account + withdraw\n",
    "        wallet = wallet - withdraw\n",
    "\n",
    "        #While loop to check if user try to withdraw more amount than available amount in e-wallet\n",
    "        while wallet < 0:\n",
    "            wallet = wallet + withdraw \n",
    "            account = account - withdraw  \n",
    "            print(\"Amount entered to withdraw is less than available balance. Amount available in wallet is\", wallet)\n",
    "            withdraw = int(input(\"Enter a correct amount:\"))\n",
    "            account = account + withdraw\n",
    "            wallet = wallet - withdraw\n",
    "    \n",
    "    # if condition to check the balace to start the game is sufficient\n",
    "    if account >=500:\n",
    "        print(\"Now, you are ready to play the game.\", \"account balance:\", account,\"e-wallet balance:\", wallet)\n",
    "    return(account,wallet)"
   ]
  },
  {
   "cell_type": "code",
   "execution_count": 6,
   "metadata": {},
   "outputs": [],
   "source": [
    "#Function to start the game\n",
    "def play_game():\n",
    "    \n",
    "    #gets the account and wallet balace info from user\n",
    "    account = int(input(\"Provide your account balance: \"))\n",
    "    wallet = int(input(\"Provide your wallet balance: \"))\n",
    "    game = input(\"Need to play a match 'Yes' or 'No': \")\n",
    "    count = 0\n",
    "    \n",
    "    #while loop if user provide Yes to start a game\n",
    "    while game == 'Yes':\n",
    "        \n",
    "        #if condition to check the sum of account and wallet balance more than 500 to start a game\n",
    "        if account+wallet < 500:\n",
    "                print(\"Amount in e-wallet+account is insufficient to start a game\")\n",
    "                break\n",
    "        \n",
    "        #calls function balance_check() to check user has sufficient balance to start a game\n",
    "        account, wallet = balance_check(account,wallet)\n",
    "        \n",
    "        #calls function guess__number() to guess the number\n",
    "        account = guess_number(account)\n",
    "        \n",
    "        print(\"account balance:\", account,\"e-wallet balance:\", wallet)\n",
    "        \n",
    "        #user input if check if user need to play the game again\n",
    "        game = input(\"Need to play one more time 'Yes' or 'No': \")\n",
    "    \n",
    "    #if condition if user provide No to start a game\n",
    "    if game == 'No':\n",
    "        print(\"Have a wonderful day!\") "
   ]
  },
  {
   "cell_type": "code",
   "execution_count": null,
   "metadata": {},
   "outputs": [
    {
     "name": "stdout",
     "output_type": "stream",
     "text": [
      "Provide your account balance: 1000\n",
      "Provide your wallet balance: 200\n",
      "Need to play a match 'Yes' or 'No': Yes\n",
      "Now, you are ready to play the game. account balance: 1000 e-wallet balance: 200\n",
      "0\n",
      "Guess the number: 0\n",
      "You got it right! Congo!\n",
      "You have won Rs. 5,000\n",
      "account balance: 6000 e-wallet balance: 200\n"
     ]
    }
   ],
   "source": [
    "#call function play_game() to initiate the game\n",
    "play_game()"
   ]
  },
  {
   "cell_type": "code",
   "execution_count": null,
   "metadata": {},
   "outputs": [],
   "source": []
  }
 ],
 "metadata": {
  "kernelspec": {
   "display_name": "Python 3",
   "language": "python",
   "name": "python3"
  },
  "language_info": {
   "codemirror_mode": {
    "name": "ipython",
    "version": 3
   },
   "file_extension": ".py",
   "mimetype": "text/x-python",
   "name": "python",
   "nbconvert_exporter": "python",
   "pygments_lexer": "ipython3",
   "version": "3.8.3"
  }
 },
 "nbformat": 4,
 "nbformat_minor": 4
}
