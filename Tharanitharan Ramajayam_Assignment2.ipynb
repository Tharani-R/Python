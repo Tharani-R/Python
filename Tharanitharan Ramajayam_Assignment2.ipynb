{
 "cells": [
  {
   "cell_type": "markdown",
   "metadata": {},
   "source": [
    "## Assignment 2"
   ]
  },
  {
   "cell_type": "markdown",
   "metadata": {},
   "source": [
    "Write Python Program for the following (include necessary exception handling wherever\n",
    "required):"
   ]
  },
  {
   "cell_type": "markdown",
   "metadata": {},
   "source": [
    "1. Prompt the user for a score between 0.0 and 1.0. If the score is out of range, print an\n",
    "error message. If the score is between 0.0 and 1.0, print a grade using the following\n",
    "table:"
   ]
  },
  {
   "cell_type": "markdown",
   "metadata": {},
   "source": [
    "Score Grade\n",
    "\n",
    "    >= 0.9  A\n",
    "    \n",
    "    >= 0.8  B\n",
    "    \n",
    "    >= 0.7  C\n",
    "    \n",
    "    >= 0.6  D\n",
    "    \n",
    "    <  0.6  E"
   ]
  },
  {
   "cell_type": "code",
   "execution_count": 1,
   "metadata": {},
   "outputs": [
    {
     "name": "stdout",
     "output_type": "stream",
     "text": [
      "Enter User score: 0.2\n",
      "Your Grade is E\n"
     ]
    }
   ],
   "source": [
    "score = float(input(\"Enter User score: \")) #  get a score \n",
    "if score >= 0.0 and score <= 1.0:  # if conditio to check score comes into which grade \n",
    "    if score >= 0.9:\n",
    "        print(\"Your Grade is A\")\n",
    "    elif score >= 0.8:\n",
    "        print(\"Your Grade is B\")\n",
    "    elif score >= 0.7:\n",
    "        print(\"Your Grade is C\")\n",
    "    elif score >= 0.6:\n",
    "        print(\"Your Grade is D\")\n",
    "    elif score < 0.6:\n",
    "        print(\"Your Grade is E\")\n",
    "else:                                # else if user provide a invalid score\n",
    "    print(\"Invalid Score\")"
   ]
  },
  {
   "cell_type": "markdown",
   "metadata": {},
   "source": [
    "2. If cost price and selling price of an item is input through the keyboard, write a program to\n",
    "determine whether the seller has made profit or incurred loss. Also determine how much\n",
    "profit he made or loss he incurred."
   ]
  },
  {
   "cell_type": "code",
   "execution_count": 2,
   "metadata": {},
   "outputs": [
    {
     "name": "stdout",
     "output_type": "stream",
     "text": [
      "Enter the cost: 100\n",
      "Enter the selling: 120\n",
      "Profit of  20.0 %\n"
     ]
    }
   ],
   "source": [
    "cost = int(input(\"Enter the cost: \"))  # get cost and selling value of a product\n",
    "sell = int(input(\"Enter the selling: \"))\n",
    "if cost<=sell:                         #if condition to calculate the profit and loss\n",
    "    profit = (sell-cost)/cost*100\n",
    "    print(\"Profit of \",profit,\"%\")\n",
    "elif cost>sell:\n",
    "    loss = (cost-sell)/cost*100\n",
    "    print(\"Loss of \",loss,\"%\")"
   ]
  },
  {
   "cell_type": "markdown",
   "metadata": {},
   "source": [
    "3. Any year is input through the keyboard. Write a program to determine whether the year\n",
    "is a leap year or not"
   ]
  },
  {
   "cell_type": "code",
   "execution_count": 3,
   "metadata": {},
   "outputs": [
    {
     "name": "stdout",
     "output_type": "stream",
     "text": [
      "Enter the Year: 1990\n",
      "1990 is not an Leap Year\n"
     ]
    }
   ],
   "source": [
    "year = int(input(\"Enter the Year: \"))  #get a value as a year\n",
    "if year%400 == 0:                      # if condition to check the year is leap year or not \n",
    "    print(year,\"is an Leap Year\")\n",
    "elif year%100 == 0:\n",
    "    print(year,\"is not an Leap Year\")\n",
    "elif year%4 == 0:\n",
    "    print(year,\"is an Leap Year\")\n",
    "else:\n",
    "    print(year,\"is not an Leap Year\")"
   ]
  },
  {
   "cell_type": "markdown",
   "metadata": {},
   "source": [
    "4. A five-digit number is entered through the keyboard. Write a program to obtain the\n",
    "reversed number and to determine whether the original and reversed numbers are equal\n",
    "or not."
   ]
  },
  {
   "cell_type": "code",
   "execution_count": 4,
   "metadata": {},
   "outputs": [
    {
     "name": "stdout",
     "output_type": "stream",
     "text": [
      "Enter number: 12598\n",
      "Reverse of the number: 89521\n",
      "Doesn't Match\n"
     ]
    }
   ],
   "source": [
    "n=int(input(\"Enter number: \"))   #get a 5 digit number as input\n",
    "a = n\n",
    "rev=0\n",
    "while(n>0):                      #while loop to reverse the number\n",
    "    dig=n%10\n",
    "    rev=rev*10+dig\n",
    "    n=n//10\n",
    "print(\"Reverse of the number:\",rev)\n",
    "if a == rev:                    #if condition to check input number and reverse number match\n",
    "    print(\"Match\")\n",
    "else:\n",
    "    print(\"Doesn't Match\")"
   ]
  },
  {
   "cell_type": "markdown",
   "metadata": {},
   "source": [
    "5. If the ages of Ram, Shyam and Ajay are input through the keyboard, write a program to\n",
    "determine the youngest of the three."
   ]
  },
  {
   "cell_type": "code",
   "execution_count": 5,
   "metadata": {},
   "outputs": [
    {
     "name": "stdout",
     "output_type": "stream",
     "text": [
      "Enter the age of Ram: 26\n",
      "Enter the age of Shyam : 32\n",
      "Enter the age of Ajay : 19\n",
      "Youngest of the three is Ajay\n"
     ]
    }
   ],
   "source": [
    "ram = int(input(\"Enter the age of Ram: \"))  # get the age of ram, shyam, ajay\n",
    "shyam = int(input(\"Enter the age of Shyam : \"))\n",
    "ajay = int(input(\"Enter the age of Ajay : \"))\n",
    "\n",
    "if ram < shyam and ram < ajay:              #if condition to find the youngest person\n",
    "    print(\"Youngest of the three is Ram\")\n",
    "elif shyam < ram and shyam < ajay:\n",
    "    print(\"Youngest of the three is Shyam\")\n",
    "elif ajay < ram and ajay < shyam:\n",
    "    print(\"Youngest of the three is Ajay\")"
   ]
  },
  {
   "cell_type": "markdown",
   "metadata": {},
   "source": [
    "6. Write a program to check whether a triangle is valid or not, when the three angles of the\n",
    "triangle are entered through the keyboard. A triangle is valid if the sum of all the three\n",
    "angles is equal to 180 degrees."
   ]
  },
  {
   "cell_type": "code",
   "execution_count": 6,
   "metadata": {},
   "outputs": [
    {
     "name": "stdout",
     "output_type": "stream",
     "text": [
      "Enter a angle: 50\n",
      "Enter a angle: 50\n",
      "Enter a angle: 80\n",
      "Its an Triangle\n"
     ]
    }
   ],
   "source": [
    "a = int(input(\"Enter a angle: \"))     #get the input as angle\n",
    "b = int(input(\"Enter a angle: \"))\n",
    "c = int(input(\"Enter a angle: \"))\n",
    "\n",
    "if a+b+c == 180:                     #condition to check whether its triangle\n",
    "    print(\"Its an Triangle\")\n",
    "else:\n",
    "    print(\"Its not an Triangle\")"
   ]
  },
  {
   "cell_type": "markdown",
   "metadata": {},
   "source": [
    "7. Find the absolute value of a number entered through the keyboard."
   ]
  },
  {
   "cell_type": "code",
   "execution_count": 7,
   "metadata": {},
   "outputs": [
    {
     "name": "stdout",
     "output_type": "stream",
     "text": [
      "Enter number: -9\n",
      "Absolute value is 9\n"
     ]
    }
   ],
   "source": [
    "number = int(input(\"Enter number: \")) # get a value and print the absolute value of the number\n",
    "print(\"Absolute value is\",abs(number))"
   ]
  },
  {
   "cell_type": "markdown",
   "metadata": {},
   "source": [
    "8. Given three points (x1, y1), (x2, y2) and (x3, y3), write a program to check if all the three\n",
    "points fall on one straight line."
   ]
  },
  {
   "cell_type": "code",
   "execution_count": 8,
   "metadata": {},
   "outputs": [
    {
     "name": "stdout",
     "output_type": "stream",
     "text": [
      "Enter point X1: 1\n",
      "Enter point Y1: 1\n",
      "Enter point X2: 2\n",
      "Enter point Y2: 2\n",
      "Enter point X3: 3\n",
      "Enter point Y3: 3\n",
      "Its a staright line\n"
     ]
    }
   ],
   "source": [
    "x1 = int(input(\"Enter point X1: \"))     #get value of 3 points\n",
    "y1 = int(input(\"Enter point Y1: \"))\n",
    "x2 = int(input(\"Enter point X2: \"))\n",
    "y2 = int(input(\"Enter point Y2: \"))\n",
    "x3 = int(input(\"Enter point X3: \"))\n",
    "y3 = int(input(\"Enter point Y3: \"))\n",
    "if ((y3 - y2)*(x2 - x1) == (y2 - y1)*(x3 - x2)):    # if condition to check whether 3 points makes a straight line\n",
    "    print (\"Its a staright line\") \n",
    "else: \n",
    "    print (\"Its not a staright line\") "
   ]
  },
  {
   "cell_type": "markdown",
   "metadata": {},
   "source": [
    "9. Given a point (x, y), write a program to find out if it lies on the x-axis, y-axis or at the\n",
    "origin, viz. (0, 0)."
   ]
  },
  {
   "cell_type": "code",
   "execution_count": 9,
   "metadata": {},
   "outputs": [
    {
     "name": "stdout",
     "output_type": "stream",
     "text": [
      "Enter point X: 0\n",
      "Enter point Y: 5\n",
      "Point lies at Y-Axis\n"
     ]
    }
   ],
   "source": [
    "x = int(input(\"Enter point X: \"))    # get input as a value\n",
    "y = int(input(\"Enter point Y: \"))\n",
    "if x == 0 and y == 0:                #if condition to check points lies on any axis\n",
    "    print(\"Point lies at Origin\")\n",
    "elif x == 0 and y != 0:\n",
    "    print(\"Point lies at Y-Axis\")\n",
    "elif x != 0 and y == 0:\n",
    "    print(\"Point lies at X-Axis\")\n",
    "else:\n",
    "    print(\"Don't lie on any Axis\")"
   ]
  },
  {
   "cell_type": "markdown",
   "metadata": {},
   "source": [
    "10. An Insurance company follows following rules to calculate premium.\n",
    "\n",
    "    a. If a person’s health is excellent and the person is between 25 and 35 years of\n",
    "    age and lives in a city and is a male then the premium is Rs. 4 per thousand and\n",
    "    his policy amount cannot exceed Rs. 2 lakhs.\n",
    "    \n",
    "    b. If a person satisfies all the above conditions except that the sex is female then\n",
    "    the premium is Rs. 3 per thousand and her policy amount cannot exceed Rs. 1\n",
    "    lakh.\n",
    "    \n",
    "    c. If a person’s health is poor and the person is between 25 and 35 years of age\n",
    "    and lives in a village and is a male\n",
    "    \n",
    "    Write a program to output whether the person should be insured or not, his/her premium\n",
    "    rate and maximum amount for which he/she can be insured."
   ]
  },
  {
   "cell_type": "code",
   "execution_count": 10,
   "metadata": {},
   "outputs": [
    {
     "name": "stdout",
     "output_type": "stream",
     "text": [
      "Health Condition of the person: excellent\n",
      "Age of the person: 26\n",
      "City or Village:city\n",
      "Gender:male\n",
      "The premium is Rs. 4 per thousand and his policy amount cannot exceed Rs. 2 lakhs\n"
     ]
    }
   ],
   "source": [
    "health = input(\"Health Condition of the person: \")  # gets the input of person details\n",
    "age = int(input(\"Age of the person: \"))\n",
    "place = input(\"City or Village:\")\n",
    "gender = input(\"Gender:\")\n",
    "\n",
    "if age >= 25 and age <= 35:   #based on the person details it provide the respective policy\n",
    "    if health == 'excellent' and place == 'city':\n",
    "        if gender == 'male':\n",
    "            print(\"The premium is Rs. 4 per thousand and his policy amount cannot exceed Rs. 2 lakhs\")\n",
    "        elif gender == 'female':\n",
    "            print(\"The premium is Rs. 3 per thousand and his policy amount cannot exceed Rs. 1 lakhs\")\n",
    "    if health == 'poor' and place == 'village':\n",
    "        print(\"The premium is Rs. 5 per thousand and his policy amount cannot exceed Rs. 3 lakhs\")\n",
    "else:\n",
    "    print(\"he/she can be insured\")\n",
    "    "
   ]
  },
  {
   "cell_type": "markdown",
   "metadata": {},
   "source": [
    "11. A certain grade of steel is graded according to the following conditions:\n",
    "\n",
    "a. (i) Hardness must be greater than 50\n",
    "\n",
    "b. (ii) Carbon content must be less than 0.7\n",
    "\n",
    "c. (iii) Tensile strength must be greater than 5600\n",
    "\n",
    "The grades are as follows:\n",
    "\n",
    "Grade is 10 if all three conditions are met\n",
    "\n",
    "Grade is 9 if conditions (i) and (ii) are met\n",
    "\n",
    "Grade is 8 if conditions (ii) and (iii) are met\n",
    "\n",
    "Grade is 7 if conditions (i) and (iii) are met\n",
    "\n",
    "Grade is 6 if only one condition is met\n",
    "\n",
    "Grade is 5 if none of the conditions are met\n",
    "\n",
    "Write a program, which will require the user to give values of hardness, carbon content\n",
    "and tensile strength of the steel under consideration and output the grade of the steel."
   ]
  },
  {
   "cell_type": "code",
   "execution_count": 11,
   "metadata": {},
   "outputs": [
    {
     "name": "stdout",
     "output_type": "stream",
     "text": [
      "Enter the hardness of steel: 52\n",
      "Enter the carbon of steel: 0.8\n",
      "Enter the tensile strength of steel: 5700\n",
      "Grade is 7\n"
     ]
    }
   ],
   "source": [
    "hardness = int(input(\"Enter the hardness of steel: \"))  # gets hardness, carbonm, tensile of a stell\n",
    "carbon = float(input(\"Enter the carbon of steel: \"))\n",
    "tensile = int(input(\"Enter the tensile strength of steel: \"))\n",
    "if hardness > 50 and carbon < 0.7 and tensile > 5600:  # based on inuput provide the respective grade to steel\n",
    "    print(\"Grade is 10\")\n",
    "elif hardness > 50 and carbon < 0.7:\n",
    "    print(\"Grade is 9\")\n",
    "elif carbon < 0.7 and tensile > 5600:\n",
    "    print(\"Grade is 8\")\n",
    "elif hardness > 50 and tensile > 5600:\n",
    "    print(\"Grade is 7\")\n",
    "elif hardness > 50 or carbon < 0.7 or tensile > 5600:\n",
    "    print(\"Grade is 6\")\n",
    "else:\n",
    "    print(\"Grade is 5\")\n",
    "    "
   ]
  },
  {
   "cell_type": "markdown",
   "metadata": {},
   "source": [
    "12. A library charges a fine for every book returned late. For first 5 days the fine is 50 paise,\n",
    "for 6-10 days fine is one rupee and above 10 days fine is 5 rupees. If you return the\n",
    "book after 30 days your membership will be cancelled. Write a program to accept the \n",
    "number of days the member is late to return the book and display the fine or the\n",
    "appropriate message."
   ]
  },
  {
   "cell_type": "code",
   "execution_count": 12,
   "metadata": {},
   "outputs": [
    {
     "name": "stdout",
     "output_type": "stream",
     "text": [
      "Number of days the member is late to return the book: 22\n",
      "You are late by 22 days and fine is 5 rupees\n"
     ]
    }
   ],
   "source": [
    "late = int(input(\"Number of days the member is late to return the book: \"))   #get the days of the member is late to return the book\n",
    "if late <= 5:      #based on the input if condition calculates the fine\n",
    "    print(\"You are late by\",late,\"days and fine is 50 paise\")\n",
    "elif late >5 and late <= 10:\n",
    "    print(\"You are late by\",late,\"days and fine is 1 rupees\")\n",
    "elif late >10 and late <= 30:\n",
    "    print(\"You are late by\",late,\"days and fine is 5 rupees\")\n",
    "else:\n",
    "    print(\"Your membership will be cancelled\")\n"
   ]
  },
  {
   "cell_type": "markdown",
   "metadata": {},
   "source": [
    "13. The policy followed by a company to process customer orders is given by the following\n",
    "rules:\n",
    "\n",
    "a. If a customer order is less than or equal to that in stock and has credit is OK,\n",
    "supply has requirement.\n",
    "\n",
    "b. If has credit is not OK do not supply. Send him intimation.\n",
    "\n",
    "c. If has credit is Ok but the item in stock is less than has order, supply what is in stock. \n",
    "\n",
    "Intimate to him data the balance will be shipped. Write a program to implement the company policy."
   ]
  },
  {
   "cell_type": "code",
   "execution_count": 13,
   "metadata": {},
   "outputs": [
    {
     "name": "stdout",
     "output_type": "stream",
     "text": [
      "Enter the stock available: 100\n",
      "Customer order: 80\n",
      "Credit:ok\n",
      "Supply as requirement\n",
      "Customer order: 25\n",
      "Credit:not ok\n",
      "Send him intimation\n",
      "Customer order: 20\n",
      "Credit:ok\n",
      "Supply as requirement\n"
     ]
    }
   ],
   "source": [
    "stock = int(input(\"Enter the stock available: \"))\n",
    "while stock > 0:\n",
    "    order = int(input(\"Customer order: \"))\n",
    "    credit = input(\"Credit:\").upper()\n",
    "    if credit == 'OK':\n",
    "        if order <= stock:\n",
    "            stock = stock - order\n",
    "            print(\"Supply as requirement\")\n",
    "        elif order > stock:\n",
    "            stock = stock - order\n",
    "            print(\"Supply what is in stock\",order+stock,\"and balance\",abs(stock),\"will be shipped later\")\n",
    "    else:\n",
    "        print(\"Send him intimation\")"
   ]
  },
  {
   "cell_type": "markdown",
   "metadata": {},
   "source": [
    "14. In a company, worker efficiency is determined on the basis of the time required for a\n",
    "worker to complete a particular job. If the time taken by the worker is between 2 – 3\n",
    "hours, then the worker is said to be highly efficient. If the time required by the worker is\n",
    "between 3 – 4 hours, then the worker is ordered to improve speed. If the time taken is\n",
    "between 4 – 5 hours, the worker is given training to improve his speed, and if the time\n",
    "taken by the worker is more than 5 hours, then the worker has to leave the company. If\n",
    "the time taken by the worker is input through the keyboard, find the efficiency of the\n",
    "worker"
   ]
  },
  {
   "cell_type": "code",
   "execution_count": 14,
   "metadata": {},
   "outputs": [
    {
     "name": "stdout",
     "output_type": "stream",
     "text": [
      "Time taken by the worker: 2\n",
      "The worker is highly efficient\n",
      "Next employee 0 or 1: 1\n",
      "Time taken by the worker: 5\n",
      "The worker has to leave the company\n",
      "Next employee 0 or 1: 0\n"
     ]
    }
   ],
   "source": [
    "worker = 1\n",
    "while worker == 1:\n",
    "    time = float(input(\"Time taken by the worker: \"))   #gets the time in which the employee can complete the work \n",
    "    if time >=2 and time <3:                    #if condition to check whether the employee is efficient or not\n",
    "        print(\"The worker is highly efficient\")\n",
    "    elif time >=3 and time <4:\n",
    "        print(\"The worker is ordered to improve speed\")\n",
    "    elif time >=4 and time <5:\n",
    "        print(\"The worker is given training to improve his speed\")\n",
    "    elif time >=5:\n",
    "        print(\"The worker has to leave the company\")\n",
    "    worker = int(input(\"Next employee 0 or 1: \"))"
   ]
  },
  {
   "cell_type": "markdown",
   "metadata": {},
   "source": [
    "15. A university has the following rules for a student to qualify for a degree with A as the\n",
    "main subject and B as the subsidiary subject:\n",
    "    \n",
    "a. He should get 55 percent or more in A and 45 percent or more in B.\n",
    "\n",
    "b. If he gets than 55 percent in A he should get 55 percent or more in B. However,\n",
    "he should get at least 45 percent in A.\n",
    "\n",
    "c. If he gets less than 45 percent in B and 65 percent or more in A he is allowed to\n",
    "reappear in an examination in B to qualify.\n",
    "\n",
    "d. In all other cases he is declared to have failed.\n",
    "\n",
    "Write a program to receive marks in A and B and Output whether the student has\n",
    "passed, failed or is allowed to reappear in B"
   ]
  },
  {
   "cell_type": "code",
   "execution_count": 15,
   "metadata": {},
   "outputs": [
    {
     "name": "stdout",
     "output_type": "stream",
     "text": [
      "Enter the percentage od degree A:55\n",
      "Enter the percentage od degree B:45\n",
      "The student got passed\n"
     ]
    }
   ],
   "source": [
    "percent_A = int(input(\"Enter the percentage od degree A:\"))\n",
    "percent_B = int(input(\"Enter the percentage od degree B:\"))\n",
    "\n",
    "if percent_A >= 55 and percent_B >= 45:\n",
    "    print(\"The student got passed\")\n",
    "elif percent_A >= 65 and percent_B < 45:\n",
    "    print(\"The student should reappear in an examination B.\")\n",
    "else:\n",
    "    print(\"The student got failed\")"
   ]
  },
  {
   "cell_type": "code",
   "execution_count": null,
   "metadata": {},
   "outputs": [],
   "source": []
  }
 ],
 "metadata": {
  "kernelspec": {
   "display_name": "Python 3",
   "language": "python",
   "name": "python3"
  },
  "language_info": {
   "codemirror_mode": {
    "name": "ipython",
    "version": 3
   },
   "file_extension": ".py",
   "mimetype": "text/x-python",
   "name": "python",
   "nbconvert_exporter": "python",
   "pygments_lexer": "ipython3",
   "version": "3.8.3"
  }
 },
 "nbformat": 4,
 "nbformat_minor": 4
}
