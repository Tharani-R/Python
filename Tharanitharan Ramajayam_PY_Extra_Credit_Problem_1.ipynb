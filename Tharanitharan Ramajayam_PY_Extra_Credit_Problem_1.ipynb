{
 "cells": [
  {
   "cell_type": "code",
   "execution_count": 1,
   "metadata": {},
   "outputs": [],
   "source": [
    "#Codes taken from stack overflow.\n",
    "def wait():\n",
    "    import sys\n",
    "    import time\n",
    "    for remaining in range(10, 0, -1):\n",
    "        sys.stdout.write(\"\\r%d seconds remaining.\" %remaining)\n",
    "        time.sleep(1)"
   ]
  },
  {
   "cell_type": "code",
   "execution_count": 2,
   "metadata": {},
   "outputs": [],
   "source": [
    "#Functio to Enter a password and check its correct or not\n",
    "def enter_password():\n",
    "    \n",
    "    password = ''\n",
    "    count = 0\n",
    "    \n",
    "    #While loop to check the password matches with correct one\n",
    "    while password != 'Secret' :\n",
    "        \n",
    "        #if condition to check whether user lost his 5 chances to enter correct password\n",
    "        if count == 5:\n",
    "            print(\"You have lost your 5 chances\")\n",
    "            \n",
    "            #calls function wait() to make the user wait for 10 seconds and start the loop again\n",
    "            wait()\n",
    "            count = 0\n",
    "        \n",
    "        #gets User input to enter password \n",
    "        password = input(\"Enter the correct password: \")\n",
    "        \n",
    "        #if condition to check if user need a hint\n",
    "        if password == 'Forgot':\n",
    "            print(\"Hint: Don't tell anyone\")\n",
    "            continue\n",
    "        count += 1\n",
    "    \n",
    "    #if user enters the correct password the while loop breaks and print this statment    \n",
    "    print(\"Password correct\")"
   ]
  },
  {
   "cell_type": "code",
   "execution_count": null,
   "metadata": {},
   "outputs": [],
   "source": [
    "#calls function enter_password()\n",
    "enter_password()"
   ]
  },
  {
   "cell_type": "code",
   "execution_count": null,
   "metadata": {},
   "outputs": [],
   "source": []
  },
  {
   "cell_type": "code",
   "execution_count": null,
   "metadata": {},
   "outputs": [],
   "source": []
  }
 ],
 "metadata": {
  "kernelspec": {
   "display_name": "Python 3",
   "language": "python",
   "name": "python3"
  },
  "language_info": {
   "codemirror_mode": {
    "name": "ipython",
    "version": 3
   },
   "file_extension": ".py",
   "mimetype": "text/x-python",
   "name": "python",
   "nbconvert_exporter": "python",
   "pygments_lexer": "ipython3",
   "version": "3.8.3"
  }
 },
 "nbformat": 4,
 "nbformat_minor": 4
}
