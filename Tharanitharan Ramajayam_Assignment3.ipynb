{
 "cells": [
  {
   "cell_type": "markdown",
   "metadata": {},
   "source": [
    "## Assignment 3"
   ]
  },
  {
   "cell_type": "markdown",
   "metadata": {},
   "source": [
    "1. WAP that will accept two sets of numbers and calculate the Pearson’s correlation\n",
    "coefficient between them. (Use necessary exception handling). (Optional if you do not\n",
    "know what it is)"
   ]
  },
  {
   "cell_type": "code",
   "execution_count": 1,
   "metadata": {},
   "outputs": [
    {
     "name": "stdout",
     "output_type": "stream",
     "text": [
      "0.7293249574894728\n"
     ]
    }
   ],
   "source": [
    "import numpy as np\n",
    "x = np.array([1,2,3,4,5])\n",
    "y = np.array([2,4,5,8,5])\n",
    "n = len(x)\n",
    "xy = x*y\n",
    "x2 = x*x\n",
    "y2 = y*y\n",
    "Ex = np.sum(x)\n",
    "Ey = np.sum(y)\n",
    "Exy = np.sum(xy)\n",
    "Ex2 = np.sum(x2)\n",
    "Ey2 = np.sum(y2)\n",
    "Exx = Ex*Ex\n",
    "Eyy = Ey*Ey\n",
    "\n",
    "r = ((n*Exy)-(Ex*Ey))/(np.sqrt(((n*Ex2)-(Exx))*((n*Ey2)-(Eyy))))\n",
    "\n",
    "print(r)"
   ]
  },
  {
   "cell_type": "code",
   "execution_count": 2,
   "metadata": {},
   "outputs": [
    {
     "name": "stdout",
     "output_type": "stream",
     "text": [
      "0.7293249574894728\n"
     ]
    }
   ],
   "source": [
    "import numpy as np\n",
    "from scipy.stats import pearsonr\n",
    "x = np.array([1,2,3,4,5])\n",
    "y = np.array([2,4,5,8,5])\n",
    "corr, _ = pearsonr(x, y) \n",
    "print(corr)"
   ]
  },
  {
   "cell_type": "markdown",
   "metadata": {},
   "source": [
    "2. Write a program to print all prime numbers from 1 to 300."
   ]
  },
  {
   "cell_type": "code",
   "execution_count": 3,
   "metadata": {},
   "outputs": [
    {
     "name": "stdout",
     "output_type": "stream",
     "text": [
      "Prime numbers from 1 to 100 are\n",
      "2 3 5 7 11 13 17 19 23 29 31 37 41 43 47 53 59 61 67 71 73 79 83 89 97 101 103 107 109 113 127 131 137 139 149 151 157 163 167 173 179 181 191 193 197 199 211 223 227 229 233 239 241 251 257 263 269 271 277 281 283 293 "
     ]
    }
   ],
   "source": [
    "print(\"Prime numbers from 1 to 100 are\")\n",
    "for num in range(1, 300 + 1):\n",
    "    if num > 1:\n",
    "        for i in range(2, num):\n",
    "            if (num % i) == 0:\n",
    "                break\n",
    "        else:\n",
    "            print(num,end= \" \")"
   ]
  },
  {
   "cell_type": "markdown",
   "metadata": {},
   "source": [
    "3. Write a program to print the multiplication table of the number entered by the user. \n",
    "The table should get displayed in the following form.\n",
    "\n",
    "29 * 1 = 29\n",
    "\n",
    "29 *2 = 58"
   ]
  },
  {
   "cell_type": "code",
   "execution_count": 4,
   "metadata": {},
   "outputs": [
    {
     "name": "stdout",
     "output_type": "stream",
     "text": [
      "Enter the table number: 2\n",
      "Enter the end row: 20\n",
      "2  *  1  =  2\n",
      "2  *  2  =  4\n",
      "2  *  3  =  6\n",
      "2  *  4  =  8\n",
      "2  *  5  =  10\n",
      "2  *  6  =  12\n",
      "2  *  7  =  14\n",
      "2  *  8  =  16\n",
      "2  *  9  =  18\n",
      "2  *  10  =  20\n",
      "2  *  11  =  22\n",
      "2  *  12  =  24\n",
      "2  *  13  =  26\n",
      "2  *  14  =  28\n",
      "2  *  15  =  30\n",
      "2  *  16  =  32\n",
      "2  *  17  =  34\n",
      "2  *  18  =  36\n",
      "2  *  19  =  38\n",
      "2  *  20  =  40\n"
     ]
    }
   ],
   "source": [
    "table = int(input(\"Enter the table number: \"))\n",
    "row = int(input(\"Enter the end row: \"))\n",
    "for i in range(1,row+1):\n",
    "    print(table,\" * \",i,\" = \", table*i)"
   ]
  },
  {
   "cell_type": "markdown",
   "metadata": {},
   "source": [
    "3. WAP which repeatedly reads numbers until the user enters “done”. Once “done” is\n",
    "entered, print out the total, count, and average of the numbers. If the user enters\n",
    "anything other than a number, detect their mistake using try and except and print an\n",
    "error message and skip to the next number. (Use of list is not allowed in this program)\n",
    "\n",
    "Enter a number: 4\n",
    "\n",
    "Enter a number: 5\n",
    "\n",
    "Enter a number: nine\n",
    "\n",
    "Invalid input\n",
    "\n",
    "Enter a number: 7\n",
    "\n",
    "Enter a number: done\n",
    "\n",
    "16 3 5.33333333333"
   ]
  },
  {
   "cell_type": "code",
   "execution_count": 5,
   "metadata": {},
   "outputs": [
    {
     "name": "stdout",
     "output_type": "stream",
     "text": [
      "Enter a number: 4\n",
      "Enter a number: 5\n",
      "Enter a number: asd\n",
      "Invalid input\n",
      "Enter a number: nine\n",
      "Invalid input\n",
      "Enter a number: 7\n",
      "Enter a number: done\n",
      "Invalid input\n",
      "16 3 5.333333333333333\n"
     ]
    }
   ],
   "source": [
    "number = 0\n",
    "count = 0\n",
    "sum = 0\n",
    "while number != 'done':\n",
    "    number = input(\"Enter a number: \")\n",
    "    try:\n",
    "        sum = sum + int(number)\n",
    "        count += 1\n",
    "    except:\n",
    "        print(\"Invalid input\")\n",
    "print(sum,count,sum/count)"
   ]
  },
  {
   "cell_type": "markdown",
   "metadata": {},
   "source": [
    "4. Write another program that prompts for a list of numbers as above and at the end prints\n",
    "both the maximum and minimum of the numbers instead of the average. (Use of list is\n",
    "not allowed in this program)"
   ]
  },
  {
   "cell_type": "code",
   "execution_count": 6,
   "metadata": {},
   "outputs": [
    {
     "name": "stdout",
     "output_type": "stream",
     "text": [
      "Enter a number: 4\n",
      "Enter a number: 2\n",
      "Enter a number: 8\n",
      "Enter a number: 4\n",
      "Enter a number: done\n",
      "Invalid input\n",
      "Sum 18 Count 4 Minimum 2 Maximum 8\n"
     ]
    }
   ],
   "source": [
    "number = 0\n",
    "count = 0\n",
    "sum = 0\n",
    "list = []\n",
    "while number != 'done':\n",
    "    number = input(\"Enter a number: \")\n",
    "    try:\n",
    "        sum = sum + int(number)\n",
    "        count += 1\n",
    "        list.append(number)\n",
    "    except:\n",
    "        print(\"Invalid input\")\n",
    "print(\"Sum\",sum,\"Count\",count,\"Minimum\",min(list),\"Maximum\",max(list))"
   ]
  },
  {
   "cell_type": "markdown",
   "metadata": {},
   "source": [
    "5. Guess a number is a game that prompts a player to guess a number between 0 and 9,\n",
    "which is randomly generated by the system. When the input given by the user matches\n",
    "the number generated by the system then the user wins. The game should go as\n",
    "follows:\n",
    "\n",
    "Guess the number: 5\n",
    "\n",
    "Sorry, try again\n",
    "\n",
    "Guess the number: 3\n",
    "\n",
    "Sorry, try again\n",
    "\n",
    "Guess the number: 8\n",
    "\n",
    "You got it right! Congo!"
   ]
  },
  {
   "cell_type": "code",
   "execution_count": 7,
   "metadata": {},
   "outputs": [
    {
     "name": "stdout",
     "output_type": "stream",
     "text": [
      "2\n",
      "Guess the number: 5\n",
      "Sorry you Lost!\n",
      "Guess the number: 7\n",
      "Sorry you Lost!\n",
      "Guess the number: 2\n",
      "You got it right! Congo!\n"
     ]
    }
   ],
   "source": [
    "import random\n",
    "random_ = random.randint(0,9)\n",
    "print(random_)\n",
    "    \n",
    "#For loop to provide user 3 chances\n",
    "while True:\n",
    "\n",
    "    #User input the guess\n",
    "    guess = int(input(\"Guess the number: \"))\n",
    "\n",
    "    #if condition to check the guess and random number matches\n",
    "    if guess == random_:\n",
    "        print(\"You got it right! Congo!\")\n",
    "        break\n",
    "\n",
    "\n",
    "    #else if user makes guess as wrong \n",
    "    else:\n",
    "        print(\"Sorry you Lost!\")"
   ]
  },
  {
   "cell_type": "markdown",
   "metadata": {},
   "source": [
    "6. Make an improvement to the Guess a number game. Guide the user where they are\n",
    "standing and limit the number of attempts to 3. For example, the game should go like\n",
    "this:\n",
    "\n",
    "Guess the number: 4\n",
    "\n",
    "Too low\n",
    "\n",
    "Guess the number: 9\n",
    "\n",
    "Too high\n",
    "\n",
    "Guess the number: 5\n",
    "\n",
    "Sorry you Lost!"
   ]
  },
  {
   "cell_type": "code",
   "execution_count": 8,
   "metadata": {},
   "outputs": [
    {
     "name": "stdout",
     "output_type": "stream",
     "text": [
      "7\n",
      "Guess the number: 1\n",
      "To low\n",
      "Guess the number: 2\n",
      "To low\n",
      "Guess the number: 9\n",
      "Sorry you Lost!\n"
     ]
    }
   ],
   "source": [
    "random_ = random.randint(0,9)\n",
    "print(random_)\n",
    "\n",
    "#For loop to provide user 3 chances\n",
    "for count in range(0,3):\n",
    "\n",
    "    #User input the guess\n",
    "    guess = int(input(\"Guess the number: \"))\n",
    "\n",
    "    #if condition to check the guess and random number matches\n",
    "    if guess == random_:\n",
    "        print(\"You got it right! Congo!\")\n",
    "\n",
    "    #elif condition what if user makes wrong guess\n",
    "    elif count+1 < 3:\n",
    "        if guess > random_:\n",
    "            print(\"Too high\")\n",
    "        if guess < random_:\n",
    "            print(\"To low\")\n",
    "\n",
    "    #else if user makes all 3 guess as wrong and detect the lose amount\n",
    "    else:\n",
    "        print(\"Sorry you Lost!\")"
   ]
  },
  {
   "cell_type": "markdown",
   "metadata": {},
   "source": [
    "7. Let us make the above game a little more interesting by converting it into a gambling\n",
    "problem. Suppose that a player starts with Rs. 1,000. If a player can guess the number\n",
    "in his first chance, then he will be given a prize of Rs. 5,000, if he requires 2 attempts\n",
    "then he will get a prize of Rs.1,000. If he loses then he will lose Rs. 500. For example\n",
    "the game should go like this:\n",
    "    \n",
    "You have a cash of Rs. 1,000 with you...\n",
    "\n",
    "Guess the number: 8\n",
    "    \n",
    "Too high\n",
    "\n",
    "Guess the number: 3\n",
    "    \n",
    "You have just won Rs. 1,000\n",
    "\n",
    "Your balance: Rs. 2000"
   ]
  },
  {
   "cell_type": "code",
   "execution_count": 9,
   "metadata": {},
   "outputs": [
    {
     "name": "stdout",
     "output_type": "stream",
     "text": [
      "8\n",
      "You have a cash of Rs. 1,000 with you... \n",
      "Guess the number: 2\n",
      "To low\n",
      "Guess the number: 8\n",
      "You got it right! Congo!\n",
      "You have just won Rs. 1,000\n",
      "Your balance: Rs. 2000\n"
     ]
    }
   ],
   "source": [
    "random_ = random.randint(0,9)\n",
    "print(random_)\n",
    "account = 1000\n",
    "\n",
    "print(\"You have a cash of Rs. 1,000 with you... \")\n",
    "#For loop to provide user 3 chances\n",
    "for count in range(0,3):\n",
    "\n",
    "    #User input the guess\n",
    "    guess = int(input(\"Guess the number: \"))\n",
    "\n",
    "    #if condition to check the guess and random number matches\n",
    "    if guess == random_:\n",
    "        print(\"You got it right! Congo!\")\n",
    "\n",
    "        #if condition to check the correct guess is made at which chance provide the prize accordingly\n",
    "        if count+1 == 1:\n",
    "            account = account + 5000\n",
    "            print(\"You have won Rs. 5,000\")\n",
    "        elif count+1 == 2:\n",
    "            account = account + 1000\n",
    "            print(\"You have just won Rs. 1,000\")\n",
    "        break\n",
    "\n",
    "    #elif condition what if user makes wrong guess\n",
    "    elif count+1 < 3:\n",
    "        if guess > random_:\n",
    "            print(\"Too high\")\n",
    "        if guess < random_:\n",
    "            print(\"To low\")\n",
    "\n",
    "    #else if user makes all 3 guess as wrong and detect the lose amount\n",
    "    else:\n",
    "        print(\"Sorry you Lost!\")\n",
    "        account = account - 500\n",
    "print(\"Your balance: Rs.\",account)"
   ]
  },
  {
   "cell_type": "code",
   "execution_count": null,
   "metadata": {},
   "outputs": [],
   "source": []
  },
  {
   "cell_type": "code",
   "execution_count": null,
   "metadata": {},
   "outputs": [],
   "source": []
  }
 ],
 "metadata": {
  "kernelspec": {
   "display_name": "Python 3",
   "language": "python",
   "name": "python3"
  },
  "language_info": {
   "codemirror_mode": {
    "name": "ipython",
    "version": 3
   },
   "file_extension": ".py",
   "mimetype": "text/x-python",
   "name": "python",
   "nbconvert_exporter": "python",
   "pygments_lexer": "ipython3",
   "version": "3.8.3"
  }
 },
 "nbformat": 4,
 "nbformat_minor": 4
}
